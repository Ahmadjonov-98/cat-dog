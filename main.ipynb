{
 "cells": [
  {
   "cell_type": "code",
   "execution_count": 1,
   "id": "initial_id",
   "metadata": {
    "collapsed": true,
    "ExecuteTime": {
     "end_time": "2023-11-01T04:09:50.033559768Z",
     "start_time": "2023-11-01T04:09:41.236905823Z"
    }
   },
   "outputs": [
    {
     "name": "stderr",
     "output_type": "stream",
     "text": [
      "2023-11-01 09:09:43.126281: I tensorflow/tsl/cuda/cudart_stub.cc:28] Could not find cuda drivers on your machine, GPU will not be used.\n",
      "2023-11-01 09:09:43.891439: E tensorflow/compiler/xla/stream_executor/cuda/cuda_dnn.cc:9342] Unable to register cuDNN factory: Attempting to register factory for plugin cuDNN when one has already been registered\n",
      "2023-11-01 09:09:43.891521: E tensorflow/compiler/xla/stream_executor/cuda/cuda_fft.cc:609] Unable to register cuFFT factory: Attempting to register factory for plugin cuFFT when one has already been registered\n",
      "2023-11-01 09:09:43.895586: E tensorflow/compiler/xla/stream_executor/cuda/cuda_blas.cc:1518] Unable to register cuBLAS factory: Attempting to register factory for plugin cuBLAS when one has already been registered\n",
      "2023-11-01 09:09:44.316857: I tensorflow/tsl/cuda/cudart_stub.cc:28] Could not find cuda drivers on your machine, GPU will not be used.\n",
      "2023-11-01 09:09:44.319801: I tensorflow/core/platform/cpu_feature_guard.cc:182] This TensorFlow binary is optimized to use available CPU instructions in performance-critical operations.\n",
      "To enable the following instructions: AVX2 FMA, in other operations, rebuild TensorFlow with the appropriate compiler flags.\n",
      "2023-11-01 09:09:46.552586: W tensorflow/compiler/tf2tensorrt/utils/py_utils.cc:38] TF-TRT Warning: Could not find TensorRT\n"
     ]
    }
   ],
   "source": [
    "import numpy as np\n",
    "import pandas as pd\n",
    "from keras.preprocessing.image import ImageDataGenerator,load_img\n",
    "from keras.utils import to_categorical\n",
    "from sklearn.model_selection import train_test_split\n",
    "import matplotlib.pyplot as plt\n",
    "import random\n",
    "import os"
   ]
  },
  {
   "cell_type": "code",
   "execution_count": 2,
   "outputs": [],
   "source": [
    "Image_Width=128\n",
    "Image_Height=128\n",
    "Image_Size=(Image_Width,Image_Height)\n",
    "Image_Channels=3"
   ],
   "metadata": {
    "collapsed": false,
    "ExecuteTime": {
     "end_time": "2023-11-01T04:09:55.988778100Z",
     "start_time": "2023-11-01T04:09:55.947764919Z"
    }
   },
   "id": "122a3f1fdf858106"
  },
  {
   "cell_type": "code",
   "execution_count": 3,
   "outputs": [],
   "source": [
    "filenames=os.listdir(\"train\")\n",
    "\n",
    "categories=[]\n",
    "for f_name in filenames:\n",
    "    category=f_name.split('.')[0]\n",
    "    if category=='dog':\n",
    "        categories.append(1)\n",
    "    else:\n",
    "        categories.append(0)\n",
    "\n",
    "df=pd.DataFrame({\n",
    "    'filename':filenames,\n",
    "    'category':categories\n",
    "})"
   ],
   "metadata": {
    "collapsed": false,
    "ExecuteTime": {
     "end_time": "2023-11-01T04:10:17.201088779Z",
     "start_time": "2023-11-01T04:10:17.145645695Z"
    }
   },
   "id": "d731340118bcf8e5"
  },
  {
   "cell_type": "code",
   "execution_count": 4,
   "outputs": [
    {
     "data": {
      "text/plain": "           filename  category\n0      dog.3167.jpg         1\n1      cat.4508.jpg         0\n2      cat.8644.jpg         0\n3      dog.4302.jpg         1\n4      dog.1426.jpg         1\n...             ...       ...\n15432    dog.25.jpg         1\n15433  cat.5690.jpg         0\n15434  dog.5408.jpg         1\n15435  dog.4655.jpg         1\n15436  cat.5726.jpg         0\n\n[15437 rows x 2 columns]",
      "text/html": "<div>\n<style scoped>\n    .dataframe tbody tr th:only-of-type {\n        vertical-align: middle;\n    }\n\n    .dataframe tbody tr th {\n        vertical-align: top;\n    }\n\n    .dataframe thead th {\n        text-align: right;\n    }\n</style>\n<table border=\"1\" class=\"dataframe\">\n  <thead>\n    <tr style=\"text-align: right;\">\n      <th></th>\n      <th>filename</th>\n      <th>category</th>\n    </tr>\n  </thead>\n  <tbody>\n    <tr>\n      <th>0</th>\n      <td>dog.3167.jpg</td>\n      <td>1</td>\n    </tr>\n    <tr>\n      <th>1</th>\n      <td>cat.4508.jpg</td>\n      <td>0</td>\n    </tr>\n    <tr>\n      <th>2</th>\n      <td>cat.8644.jpg</td>\n      <td>0</td>\n    </tr>\n    <tr>\n      <th>3</th>\n      <td>dog.4302.jpg</td>\n      <td>1</td>\n    </tr>\n    <tr>\n      <th>4</th>\n      <td>dog.1426.jpg</td>\n      <td>1</td>\n    </tr>\n    <tr>\n      <th>...</th>\n      <td>...</td>\n      <td>...</td>\n    </tr>\n    <tr>\n      <th>15432</th>\n      <td>dog.25.jpg</td>\n      <td>1</td>\n    </tr>\n    <tr>\n      <th>15433</th>\n      <td>cat.5690.jpg</td>\n      <td>0</td>\n    </tr>\n    <tr>\n      <th>15434</th>\n      <td>dog.5408.jpg</td>\n      <td>1</td>\n    </tr>\n    <tr>\n      <th>15435</th>\n      <td>dog.4655.jpg</td>\n      <td>1</td>\n    </tr>\n    <tr>\n      <th>15436</th>\n      <td>cat.5726.jpg</td>\n      <td>0</td>\n    </tr>\n  </tbody>\n</table>\n<p>15437 rows × 2 columns</p>\n</div>"
     },
     "execution_count": 4,
     "metadata": {},
     "output_type": "execute_result"
    }
   ],
   "source": [
    "df"
   ],
   "metadata": {
    "collapsed": false,
    "ExecuteTime": {
     "end_time": "2023-11-01T04:10:19.170357796Z",
     "start_time": "2023-11-01T04:10:19.127960320Z"
    }
   },
   "id": "3c0479fdf4180c30"
  },
  {
   "cell_type": "code",
   "execution_count": 5,
   "outputs": [],
   "source": [
    "from keras.models import Sequential\n",
    "from keras.layers import Conv2D,MaxPooling2D, \\\n",
    "    Dropout,Flatten,Dense,Activation, \\\n",
    "    BatchNormalization\n",
    "# from keras.preprocessing.image import load_img\n",
    "from PIL import Image\n",
    "import PIL\n",
    "\n",
    "model=Sequential()\n",
    "\n",
    "model.add(Conv2D(32,(3,3),activation='relu',input_shape=(Image_Width,Image_Height,Image_Channels)))\n",
    "model.add(BatchNormalization())\n",
    "model.add(MaxPooling2D(pool_size=(2,2)))\n",
    "model.add(Dropout(0.25))\n",
    "\n",
    "model.add(Conv2D(64,(3,3),activation='relu'))\n",
    "model.add(BatchNormalization())\n",
    "model.add(MaxPooling2D(pool_size=(2,2)))\n",
    "model.add(Dropout(0.25))\n",
    "\n",
    "model.add(Conv2D(128,(3,3),activation='relu'))\n",
    "model.add(BatchNormalization())\n",
    "model.add(MaxPooling2D(pool_size=(2,2)))\n",
    "model.add(Dropout(0.25))\n",
    "\n",
    "model.add(Flatten())\n",
    "model.add(Dense(512,activation='relu'))\n",
    "model.add(BatchNormalization())\n",
    "model.add(Dropout(0.5))\n",
    "model.add(Dense(2,activation='softmax'))\n",
    "\n",
    "model.compile(loss='categorical_crossentropy',\n",
    "              optimizer='rmsprop',metrics=['accuracy'])"
   ],
   "metadata": {
    "collapsed": false,
    "ExecuteTime": {
     "end_time": "2023-11-01T04:10:32.834578487Z",
     "start_time": "2023-11-01T04:10:32.550425867Z"
    }
   },
   "id": "65781662da8ddc52"
  },
  {
   "cell_type": "code",
   "execution_count": 6,
   "outputs": [
    {
     "name": "stdout",
     "output_type": "stream",
     "text": [
      "Model: \"sequential\"\n",
      "_________________________________________________________________\n",
      " Layer (type)                Output Shape              Param #   \n",
      "=================================================================\n",
      " conv2d (Conv2D)             (None, 126, 126, 32)      896       \n",
      "                                                                 \n",
      " batch_normalization (Batch  (None, 126, 126, 32)      128       \n",
      " Normalization)                                                  \n",
      "                                                                 \n",
      " max_pooling2d (MaxPooling2  (None, 63, 63, 32)        0         \n",
      " D)                                                              \n",
      "                                                                 \n",
      " dropout (Dropout)           (None, 63, 63, 32)        0         \n",
      "                                                                 \n",
      " conv2d_1 (Conv2D)           (None, 61, 61, 64)        18496     \n",
      "                                                                 \n",
      " batch_normalization_1 (Bat  (None, 61, 61, 64)        256       \n",
      " chNormalization)                                                \n",
      "                                                                 \n",
      " max_pooling2d_1 (MaxPoolin  (None, 30, 30, 64)        0         \n",
      " g2D)                                                            \n",
      "                                                                 \n",
      " dropout_1 (Dropout)         (None, 30, 30, 64)        0         \n",
      "                                                                 \n",
      " conv2d_2 (Conv2D)           (None, 28, 28, 128)       73856     \n",
      "                                                                 \n",
      " batch_normalization_2 (Bat  (None, 28, 28, 128)       512       \n",
      " chNormalization)                                                \n",
      "                                                                 \n",
      " max_pooling2d_2 (MaxPoolin  (None, 14, 14, 128)       0         \n",
      " g2D)                                                            \n",
      "                                                                 \n",
      " dropout_2 (Dropout)         (None, 14, 14, 128)       0         \n",
      "                                                                 \n",
      " flatten (Flatten)           (None, 25088)             0         \n",
      "                                                                 \n",
      " dense (Dense)               (None, 512)               12845568  \n",
      "                                                                 \n",
      " batch_normalization_3 (Bat  (None, 512)               2048      \n",
      " chNormalization)                                                \n",
      "                                                                 \n",
      " dropout_3 (Dropout)         (None, 512)               0         \n",
      "                                                                 \n",
      " dense_1 (Dense)             (None, 2)                 1026      \n",
      "                                                                 \n",
      "=================================================================\n",
      "Total params: 12942786 (49.37 MB)\n",
      "Trainable params: 12941314 (49.37 MB)\n",
      "Non-trainable params: 1472 (5.75 KB)\n",
      "_________________________________________________________________\n"
     ]
    }
   ],
   "source": [
    "model.summary()"
   ],
   "metadata": {
    "collapsed": false,
    "ExecuteTime": {
     "end_time": "2023-11-01T04:10:35.975347493Z",
     "start_time": "2023-11-01T04:10:35.910061292Z"
    }
   },
   "id": "2aa99b101889256e"
  },
  {
   "cell_type": "code",
   "execution_count": 7,
   "outputs": [],
   "source": [
    "from keras.callbacks import EarlyStopping, ReduceLROnPlateau\n",
    "earlystop = EarlyStopping(patience = 10)\n",
    "learning_rate_reduction = ReduceLROnPlateau(monitor = 'val_acc',patience = 2,verbose = 1,factor = 0.5,min_lr = 0.00001)\n",
    "callbacks = [earlystop,learning_rate_reduction]"
   ],
   "metadata": {
    "collapsed": false,
    "ExecuteTime": {
     "end_time": "2023-11-01T04:10:41.225845186Z",
     "start_time": "2023-11-01T04:10:41.178913100Z"
    }
   },
   "id": "be52da4599fef16c"
  },
  {
   "cell_type": "code",
   "execution_count": 8,
   "outputs": [],
   "source": [
    "df[\"category\"] = df[\"category\"].replace({0:'cat',1:'dog'})\n",
    "train_df,validate_df = train_test_split(df,test_size=0.20,\n",
    "                                        random_state=42)\n",
    "\n",
    "train_df = train_df.reset_index(drop=True)\n",
    "validate_df = validate_df.reset_index(drop=True)\n",
    "\n",
    "total_train=train_df.shape[0]\n",
    "total_validate=validate_df.shape[0]\n",
    "batch_size=15"
   ],
   "metadata": {
    "collapsed": false,
    "ExecuteTime": {
     "end_time": "2023-11-01T04:11:02.213438381Z",
     "start_time": "2023-11-01T04:11:02.201176982Z"
    }
   },
   "id": "23b596efbffbea52"
  },
  {
   "cell_type": "code",
   "execution_count": 10,
   "outputs": [
    {
     "data": {
      "text/plain": "           filename category\n0      cat.5626.jpg      cat\n1      cat.7208.jpg      cat\n2      cat.9433.jpg      cat\n3      cat.8887.jpg      cat\n4      dog.4571.jpg      dog\n...             ...      ...\n12344   dog.903.jpg      dog\n12345  cat.4326.jpg      cat\n12346  cat.4761.jpg      cat\n12347  cat.1248.jpg      cat\n12348   cat.267.jpg      cat\n\n[12349 rows x 2 columns]",
      "text/html": "<div>\n<style scoped>\n    .dataframe tbody tr th:only-of-type {\n        vertical-align: middle;\n    }\n\n    .dataframe tbody tr th {\n        vertical-align: top;\n    }\n\n    .dataframe thead th {\n        text-align: right;\n    }\n</style>\n<table border=\"1\" class=\"dataframe\">\n  <thead>\n    <tr style=\"text-align: right;\">\n      <th></th>\n      <th>filename</th>\n      <th>category</th>\n    </tr>\n  </thead>\n  <tbody>\n    <tr>\n      <th>0</th>\n      <td>cat.5626.jpg</td>\n      <td>cat</td>\n    </tr>\n    <tr>\n      <th>1</th>\n      <td>cat.7208.jpg</td>\n      <td>cat</td>\n    </tr>\n    <tr>\n      <th>2</th>\n      <td>cat.9433.jpg</td>\n      <td>cat</td>\n    </tr>\n    <tr>\n      <th>3</th>\n      <td>cat.8887.jpg</td>\n      <td>cat</td>\n    </tr>\n    <tr>\n      <th>4</th>\n      <td>dog.4571.jpg</td>\n      <td>dog</td>\n    </tr>\n    <tr>\n      <th>...</th>\n      <td>...</td>\n      <td>...</td>\n    </tr>\n    <tr>\n      <th>12344</th>\n      <td>dog.903.jpg</td>\n      <td>dog</td>\n    </tr>\n    <tr>\n      <th>12345</th>\n      <td>cat.4326.jpg</td>\n      <td>cat</td>\n    </tr>\n    <tr>\n      <th>12346</th>\n      <td>cat.4761.jpg</td>\n      <td>cat</td>\n    </tr>\n    <tr>\n      <th>12347</th>\n      <td>cat.1248.jpg</td>\n      <td>cat</td>\n    </tr>\n    <tr>\n      <th>12348</th>\n      <td>cat.267.jpg</td>\n      <td>cat</td>\n    </tr>\n  </tbody>\n</table>\n<p>12349 rows × 2 columns</p>\n</div>"
     },
     "execution_count": 10,
     "metadata": {},
     "output_type": "execute_result"
    }
   ],
   "source": [
    "train_df"
   ],
   "metadata": {
    "collapsed": false,
    "ExecuteTime": {
     "end_time": "2023-11-01T04:11:20.043095996Z",
     "start_time": "2023-11-01T04:11:20.000000913Z"
    }
   },
   "id": "bd137e606bcc3c72"
  },
  {
   "cell_type": "code",
   "execution_count": 11,
   "outputs": [
    {
     "name": "stdout",
     "output_type": "stream",
     "text": [
      "Found 12349 validated image filenames belonging to 2 classes.\n",
      "Found 3088 validated image filenames belonging to 2 classes.\n",
      "Found 0 validated image filenames belonging to 0 classes.\n"
     ]
    },
    {
     "name": "stderr",
     "output_type": "stream",
     "text": [
      "/home/ravshanjon/miniconda3/envs/praktikum/lib/python3.11/site-packages/keras/src/preprocessing/image.py:1137: UserWarning: Found 12349 invalid image filename(s) in x_col=\"filename\". These filename(s) will be ignored.\n",
      "  warnings.warn(\n"
     ]
    }
   ],
   "source": [
    "train_datagen = ImageDataGenerator(rotation_range=15,\n",
    "                                   rescale=1./255,\n",
    "                                   shear_range=0.1,\n",
    "                                   zoom_range=0.2,\n",
    "                                   horizontal_flip=True,\n",
    "                                   width_shift_range=0.1,\n",
    "                                   height_shift_range=0.1\n",
    "                                   )\n",
    "\n",
    "train_generator = train_datagen.flow_from_dataframe(train_df,\n",
    "                                                    \"train/\",x_col='filename',y_col='category',\n",
    "                                                    target_size=Image_Size,\n",
    "                                                    class_mode='categorical',\n",
    "                                                    batch_size=batch_size)\n",
    "\n",
    "validation_datagen = ImageDataGenerator(rescale=1./255)\n",
    "validation_generator = validation_datagen.flow_from_dataframe(\n",
    "    validate_df,\n",
    "    \"train/\",\n",
    "    x_col='filename',\n",
    "    y_col='category',\n",
    "    target_size=Image_Size,\n",
    "    class_mode='categorical',\n",
    "    batch_size=batch_size\n",
    ")\n",
    "\n",
    "test_datagen = ImageDataGenerator(rotation_range=15,\n",
    "                                  rescale=1./255,\n",
    "                                  shear_range=0.1,\n",
    "                                  zoom_range=0.2,\n",
    "                                  horizontal_flip=True,\n",
    "                                  width_shift_range=0.1,\n",
    "                                  height_shift_range=0.1)\n",
    "\n",
    "test_generator = train_datagen.flow_from_dataframe(train_df,\n",
    "                                                   \"test1/\",x_col='filename',y_col='category',\n",
    "                                                   target_size=Image_Size,\n",
    "                                                   class_mode='categorical',\n",
    "                                                   batch_size=batch_size)"
   ],
   "metadata": {
    "collapsed": false,
    "ExecuteTime": {
     "end_time": "2023-11-01T04:12:10.225851475Z",
     "start_time": "2023-11-01T04:12:09.957339001Z"
    }
   },
   "id": "784e4c4f4ee30f00"
  },
  {
   "cell_type": "code",
   "execution_count": 30,
   "outputs": [
    {
     "data": {
      "text/plain": "          filename category\n0     cat.8383.jpg      cat\n1     dog.3324.jpg      dog\n2     cat.9360.jpg      cat\n3     cat.1786.jpg      cat\n4     dog.4003.jpg      dog\n...            ...      ...\n3083  dog.2047.jpg      dog\n3084  dog.2627.jpg      dog\n3085  cat.2143.jpg      cat\n3086  cat.4892.jpg      cat\n3087  dog.2173.jpg      dog\n\n[3088 rows x 2 columns]",
      "text/html": "<div>\n<style scoped>\n    .dataframe tbody tr th:only-of-type {\n        vertical-align: middle;\n    }\n\n    .dataframe tbody tr th {\n        vertical-align: top;\n    }\n\n    .dataframe thead th {\n        text-align: right;\n    }\n</style>\n<table border=\"1\" class=\"dataframe\">\n  <thead>\n    <tr style=\"text-align: right;\">\n      <th></th>\n      <th>filename</th>\n      <th>category</th>\n    </tr>\n  </thead>\n  <tbody>\n    <tr>\n      <th>0</th>\n      <td>cat.8383.jpg</td>\n      <td>cat</td>\n    </tr>\n    <tr>\n      <th>1</th>\n      <td>dog.3324.jpg</td>\n      <td>dog</td>\n    </tr>\n    <tr>\n      <th>2</th>\n      <td>cat.9360.jpg</td>\n      <td>cat</td>\n    </tr>\n    <tr>\n      <th>3</th>\n      <td>cat.1786.jpg</td>\n      <td>cat</td>\n    </tr>\n    <tr>\n      <th>4</th>\n      <td>dog.4003.jpg</td>\n      <td>dog</td>\n    </tr>\n    <tr>\n      <th>...</th>\n      <td>...</td>\n      <td>...</td>\n    </tr>\n    <tr>\n      <th>3083</th>\n      <td>dog.2047.jpg</td>\n      <td>dog</td>\n    </tr>\n    <tr>\n      <th>3084</th>\n      <td>dog.2627.jpg</td>\n      <td>dog</td>\n    </tr>\n    <tr>\n      <th>3085</th>\n      <td>cat.2143.jpg</td>\n      <td>cat</td>\n    </tr>\n    <tr>\n      <th>3086</th>\n      <td>cat.4892.jpg</td>\n      <td>cat</td>\n    </tr>\n    <tr>\n      <th>3087</th>\n      <td>dog.2173.jpg</td>\n      <td>dog</td>\n    </tr>\n  </tbody>\n</table>\n<p>3088 rows × 2 columns</p>\n</div>"
     },
     "execution_count": 30,
     "metadata": {},
     "output_type": "execute_result"
    }
   ],
   "source": [
    "validate_df"
   ],
   "metadata": {
    "collapsed": false,
    "ExecuteTime": {
     "end_time": "2023-11-01T05:52:14.266407162Z",
     "start_time": "2023-11-01T05:52:14.044127438Z"
    }
   },
   "id": "6f6a3e75a8d66cbf"
  },
  {
   "cell_type": "code",
   "execution_count": 36,
   "outputs": [
    {
     "name": "stdout",
     "output_type": "stream",
     "text": [
      "Epoch 1/10\n",
      "823/823 [==============================] - ETA: 0s - loss: 0.3967 - accuracy: 0.8277WARNING:tensorflow:Learning rate reduction is conditioned on metric `val_acc` which is not available. Available metrics are: loss,accuracy,val_loss,val_accuracy,lr\n",
      "823/823 [==============================] - 366s 445ms/step - loss: 0.3967 - accuracy: 0.8277 - val_loss: 0.5668 - val_accuracy: 0.7691 - lr: 0.0010\n",
      "Epoch 2/10\n",
      "823/823 [==============================] - ETA: 0s - loss: 0.3860 - accuracy: 0.8275WARNING:tensorflow:Learning rate reduction is conditioned on metric `val_acc` which is not available. Available metrics are: loss,accuracy,val_loss,val_accuracy,lr\n",
      "823/823 [==============================] - 356s 433ms/step - loss: 0.3860 - accuracy: 0.8275 - val_loss: 1.2439 - val_accuracy: 0.7385 - lr: 0.0010\n",
      "Epoch 3/10\n",
      "823/823 [==============================] - ETA: 0s - loss: 0.3797 - accuracy: 0.8329WARNING:tensorflow:Learning rate reduction is conditioned on metric `val_acc` which is not available. Available metrics are: loss,accuracy,val_loss,val_accuracy,lr\n",
      "823/823 [==============================] - 354s 430ms/step - loss: 0.3797 - accuracy: 0.8329 - val_loss: 0.3022 - val_accuracy: 0.8686 - lr: 0.0010\n",
      "Epoch 4/10\n",
      "823/823 [==============================] - ETA: 0s - loss: 0.3723 - accuracy: 0.8369WARNING:tensorflow:Learning rate reduction is conditioned on metric `val_acc` which is not available. Available metrics are: loss,accuracy,val_loss,val_accuracy,lr\n",
      "823/823 [==============================] - 364s 442ms/step - loss: 0.3723 - accuracy: 0.8369 - val_loss: 0.3452 - val_accuracy: 0.8654 - lr: 0.0010\n",
      "Epoch 5/10\n",
      "823/823 [==============================] - ETA: 0s - loss: 0.3610 - accuracy: 0.8425WARNING:tensorflow:Learning rate reduction is conditioned on metric `val_acc` which is not available. Available metrics are: loss,accuracy,val_loss,val_accuracy,lr\n",
      "823/823 [==============================] - 310s 376ms/step - loss: 0.3610 - accuracy: 0.8425 - val_loss: 0.4193 - val_accuracy: 0.8530 - lr: 0.0010\n",
      "Epoch 6/10\n",
      "823/823 [==============================] - ETA: 0s - loss: 0.3608 - accuracy: 0.8478WARNING:tensorflow:Learning rate reduction is conditioned on metric `val_acc` which is not available. Available metrics are: loss,accuracy,val_loss,val_accuracy,lr\n",
      "823/823 [==============================] - 346s 420ms/step - loss: 0.3608 - accuracy: 0.8478 - val_loss: 0.4590 - val_accuracy: 0.8553 - lr: 0.0010\n",
      "Epoch 7/10\n",
      "823/823 [==============================] - ETA: 0s - loss: 0.3611 - accuracy: 0.8446WARNING:tensorflow:Learning rate reduction is conditioned on metric `val_acc` which is not available. Available metrics are: loss,accuracy,val_loss,val_accuracy,lr\n",
      "823/823 [==============================] - 380s 462ms/step - loss: 0.3611 - accuracy: 0.8446 - val_loss: 0.4065 - val_accuracy: 0.8380 - lr: 0.0010\n",
      "Epoch 8/10\n",
      "823/823 [==============================] - ETA: 0s - loss: 0.3485 - accuracy: 0.8505WARNING:tensorflow:Learning rate reduction is conditioned on metric `val_acc` which is not available. Available metrics are: loss,accuracy,val_loss,val_accuracy,lr\n",
      "823/823 [==============================] - 322s 391ms/step - loss: 0.3485 - accuracy: 0.8505 - val_loss: 0.5653 - val_accuracy: 0.7993 - lr: 0.0010\n",
      "Epoch 9/10\n",
      "823/823 [==============================] - ETA: 0s - loss: 0.3453 - accuracy: 0.8494WARNING:tensorflow:Learning rate reduction is conditioned on metric `val_acc` which is not available. Available metrics are: loss,accuracy,val_loss,val_accuracy,lr\n",
      "823/823 [==============================] - 373s 454ms/step - loss: 0.3453 - accuracy: 0.8494 - val_loss: 0.3208 - val_accuracy: 0.8735 - lr: 0.0010\n",
      "Epoch 10/10\n",
      "823/823 [==============================] - ETA: 0s - loss: 0.3454 - accuracy: 0.8517WARNING:tensorflow:Learning rate reduction is conditioned on metric `val_acc` which is not available. Available metrics are: loss,accuracy,val_loss,val_accuracy,lr\n",
      "823/823 [==============================] - 341s 414ms/step - loss: 0.3454 - accuracy: 0.8517 - val_loss: 0.3861 - val_accuracy: 0.8420 - lr: 0.0010\n"
     ]
    }
   ],
   "source": [
    "epochs=10\n",
    "history = model.fit(\n",
    "    train_generator,\n",
    "    epochs=epochs,\n",
    "    validation_data=validation_generator,\n",
    "    validation_steps=total_validate//batch_size,\n",
    "    steps_per_epoch=total_train//batch_size,\n",
    "    callbacks=callbacks\n",
    ")"
   ],
   "metadata": {
    "collapsed": false,
    "ExecuteTime": {
     "end_time": "2023-11-01T12:11:58.605582230Z",
     "start_time": "2023-11-01T11:11:08.164494636Z"
    }
   },
   "id": "1ad8f9eed4742b3f"
  },
  {
   "cell_type": "code",
   "execution_count": 14,
   "outputs": [],
   "source": [
    "model.save(\"cat-dog-predicter.keras\")"
   ],
   "metadata": {
    "collapsed": false,
    "ExecuteTime": {
     "end_time": "2023-11-01T05:35:03.641291957Z",
     "start_time": "2023-11-01T05:35:02.999369353Z"
    }
   },
   "id": "7052fd3689f9d551"
  },
  {
   "cell_type": "code",
   "execution_count": 34,
   "outputs": [],
   "source": [
    "test_filenames = os.listdir(\"test1\")\n",
    "test_df = pd.DataFrame({\n",
    "    'filename': test_filenames,\n",
    "    \"category\":\"any_values\"\n",
    "})\n",
    "nb_samples = test_df.shape[0]"
   ],
   "metadata": {
    "collapsed": false,
    "ExecuteTime": {
     "end_time": "2023-11-01T06:08:53.360370286Z",
     "start_time": "2023-11-01T06:08:53.316746693Z"
    }
   },
   "id": "ee8a20bb733b6d83"
  }
 ],
 "metadata": {
  "kernelspec": {
   "display_name": "Python 3",
   "language": "python",
   "name": "python3"
  },
  "language_info": {
   "codemirror_mode": {
    "name": "ipython",
    "version": 2
   },
   "file_extension": ".py",
   "mimetype": "text/x-python",
   "name": "python",
   "nbconvert_exporter": "python",
   "pygments_lexer": "ipython2",
   "version": "2.7.6"
  }
 },
 "nbformat": 4,
 "nbformat_minor": 5
}
